{
  "cells": [
    {
      "cell_type": "markdown",
      "metadata": {
        "id": "2qJVPVOSLFq4"
      },
      "source": [
        "## Importing the necessary libraries"
      ]
    },
    {
      "cell_type": "code",
      "execution_count": 1,
      "metadata": {
        "id": "bmExuXY9LCwF"
      },
      "outputs": [],
      "source": [
        "import numpy as np\n",
        "import matplotlib.pyplot as plt\n",
        "import tensorflow as tf\n",
        "import random"
      ]
    },
    {
      "cell_type": "markdown",
      "metadata": {
        "id": "IklgE8BKMVoA"
      },
      "source": [
        "## Loading the dataset"
      ]
    },
    {
      "cell_type": "code",
      "execution_count": 2,
      "metadata": {
        "colab": {
          "base_uri": "https://localhost:8080/"
        },
        "id": "cWNb8Qj-MU3q",
        "outputId": "f1a4c3b5-3fa9-4bca-ddf0-b1cea1539fc1"
      },
      "outputs": [
        {
          "output_type": "stream",
          "name": "stdout",
          "text": [
            "Downloading data from https://storage.googleapis.com/tensorflow/tf-keras-datasets/train-labels-idx1-ubyte.gz\n",
            "29515/29515 [==============================] - 0s 0us/step\n",
            "Downloading data from https://storage.googleapis.com/tensorflow/tf-keras-datasets/train-images-idx3-ubyte.gz\n",
            "26421880/26421880 [==============================] - 0s 0us/step\n",
            "Downloading data from https://storage.googleapis.com/tensorflow/tf-keras-datasets/t10k-labels-idx1-ubyte.gz\n",
            "5148/5148 [==============================] - 0s 0us/step\n",
            "Downloading data from https://storage.googleapis.com/tensorflow/tf-keras-datasets/t10k-images-idx3-ubyte.gz\n",
            "4422102/4422102 [==============================] - 0s 0us/step\n"
          ]
        }
      ],
      "source": [
        "(X_train, y_train), (X_test, y_test) = tf.keras.datasets.fashion_mnist.load_data()"
      ]
    },
    {
      "cell_type": "markdown",
      "metadata": {
        "id": "taeRBDb-M2sQ"
      },
      "source": [
        "## Getting some informations about the dataset"
      ]
    },
    {
      "cell_type": "code",
      "execution_count": 3,
      "metadata": {
        "colab": {
          "base_uri": "https://localhost:8080/"
        },
        "id": "TuFtOV5KMiT2",
        "outputId": "bb435e69-130f-48bf-c378-e179eb25e2a3"
      },
      "outputs": [
        {
          "output_type": "stream",
          "name": "stdout",
          "text": [
            "(60000, 28, 28)\n",
            "(10000, 28, 28)\n",
            "(60000,)\n",
            "(10000,)\n"
          ]
        }
      ],
      "source": [
        "# printing the shape of the training and testing data\n",
        "print(X_train.shape)\n",
        "print(X_test.shape)\n",
        "print(y_train.shape)\n",
        "print(y_test.shape)"
      ]
    },
    {
      "cell_type": "code",
      "execution_count": 4,
      "metadata": {
        "colab": {
          "base_uri": "https://localhost:8080/"
        },
        "id": "QiSn_UdTPFNV",
        "outputId": "92f0dc1a-e722-4f68-e11e-e5d9daa3bbfa"
      },
      "outputs": [
        {
          "output_type": "stream",
          "name": "stdout",
          "text": [
            "The label:  9\n",
            "[[  0   0   0   0   0   0   0   0   0   0   0   0   0   0   0   0   0   0   0   0   0   0   0   0   0   0   0   0]\n",
            " [  0   0   0   0   0   0   0   0   0   0   0   0   0   0   0   0   0   0   0   0   0   0   0   0   0   0   0   0]\n",
            " [  0   0   0   0   0   0   0   0   0   0   0   0   0   0   0   0   0   0   0   0   0   0   0   0   0   0   0   0]\n",
            " [  0   0   0   0   0   0   0   0   0   0   0   0   0   0   0   0   0   0   0   0   0   0   0   0   0   0   0   0]\n",
            " [  0   0   0   0   0   0   0   0   0   0   0   0   0   0   0   0   0   0   0   0   0   0   0   0   0   0   0   0]\n",
            " [  0   0   0   0   0   0   0   0   0   0   0   0   0   1   0   0   2   5   5   3   5   7   5   2   0  66  28   0]\n",
            " [  0   0   0   0   0   0   0   0   0   0   0   0   0   0   0   0   0   0   0   0   0   0   0   0   0  70  32   0]\n",
            " [  0   0   0   0   0   0   0   0   0   0   0   0   0   0   1   0   0  17  18  23  38  42  35  24 105 105   0   0]\n",
            " [  0   0   0   0   0   0   0   0   0   0   0   0   0   2   1   0 178 228 211 249 254 223 225 221 225 161   0   0]\n",
            " [  0   0   0   0   0   0   0   0   0   0   0   0   0   0   1   0 199 225 196 199 201 206 209 203 196 151   0   0]\n",
            " [  0   0   0   0   0   0   0   0   0   0   0   0   0   2   0   0 191 200 190 203 208 214 222 189 199 166   0   0]\n",
            " [  0   0   0   0   0   0   0   0   0   0   0   0   1   0   0 123 193 188 212 208 212 215 214 198 198 177   0   0]\n",
            " [  0   0   0   0   0   0   0   0   0   0   0   0   5   0  28 255 229 212 211 222 217 221 234 221 189 254  21   0]\n",
            " [  0   0   0   0   0   0   0   0   0   2   0   7   0   0 130  92 140 242 195 195 181 181 214 189 164 252  72   0]\n",
            " [  0   0   0   0   0   0   0   0   0   2   8   0   0 153 220 116 142 219 221 200 233 255 212 178 186 218  88   0]\n",
            " [  0   0   0   0   0   0   0   3   4   0   0  28 170 113 123 215 214 208 221 211 208 220 201 236 183 202 172   0]\n",
            " [  0   2   3   0   0   1   0   0   0   0 113 183  38   0 111 221 224 217 205 228 185 175 227 157 177 209 230   0]\n",
            " [  3   0   0   0   0   0   0   8  88 166 103   1  94 198 229 225 226 215 206 208 229 225 180 154 201 179 240  48]\n",
            " [  0   0  93 110 120 136 166 182 154  57   0 106 240 207 222 228 231 228 226 216 215 224 218 221 193 172 226  43]\n",
            " [  0 139 204 149 127  82  59  97 119 168 211 221 197 186 215 225 210 194 188 197 195 188 196 181 194 196 229  38]\n",
            " [ 63 210 229 236 227 225 217 220 219 210 204 203 214 211 207 210 214 248 255 236 215 206 213 205 193 186 229  63]\n",
            " [  0  19  86 149 198 201 219 226 231 228 251 253 250 251 241 219 183 131  42 182 255 252 255 253 233 215 255  96]\n",
            " [  0   0   0   0   0   0  30  57  86  99  99  94  93  75  20   0   0   0   0   0  97 110  79  75  57  49  47   0]\n",
            " [  0   0   0   0   0   0   0   0   0   0   0   0   0   0   0   0   0   0   0   0   0   0   0   0   0   0   0   0]\n",
            " [  0   0   0   0   0   0   0   0   0   0   0   0   0   0   0   0   0   0   0   0   0   0   0   0   0   0   0   0]\n",
            " [  0   0   0   0   0   0   0   0   0   0   0   0   0   0   0   0   0   0   0   0   0   0   0   0   0   0   0   0]\n",
            " [  0   0   0   0   0   0   0   0   0   0   0   0   0   0   0   0   0   0   0   0   0   0   0   0   0   0   0   0]\n",
            " [  0   0   0   0   0   0   0   0   0   0   0   0   0   0   0   0   0   0   0   0   0   0   0   0   0   0   0   0]]\n"
          ]
        }
      ],
      "source": [
        "# Printing a random row from the training data and its label\n",
        "np.set_printoptions(linewidth=120)\n",
        "random_number_train = random.randint(0, X_train.shape[0])\n",
        "print(\"The label: \", y_train[random_number_train])\n",
        "print(X_train[random_number_train])"
      ]
    },
    {
      "cell_type": "code",
      "execution_count": 5,
      "metadata": {
        "colab": {
          "base_uri": "https://localhost:8080/"
        },
        "id": "rcv3t5zMP3q8",
        "outputId": "37c93fec-7eac-4651-f31d-9bd632fb5a4f"
      },
      "outputs": [
        {
          "output_type": "stream",
          "name": "stdout",
          "text": [
            "The label:  7\n",
            "[[  0   0   0   0   0   0   0   0   0   0   0   0   0   0   0   0   0   0   0   0   0   0   0   0   0   0   0   0]\n",
            " [  0   0   0   0   0   0   0   0   0   0   0   0   0   0   0   0   0   0   0   0   0   0   0   0   0   0   0   0]\n",
            " [  0   0   0   0   0   0   0   0   0   0   0   0   0   0   0   0   0   0   0   0   0   0   0   0   0   0   0   0]\n",
            " [  0   0   0   0   0   0   0   0   0   0   0   0   0   0   0   0   0   0   0   0   0   0   0   0   0   0   0   0]\n",
            " [  0   0   0   0   0   0   0   0   0   0   0   0   0   0   0   0   0   0   0   0   0   0   0   0   0   0   0   0]\n",
            " [  0   0   0   0   0   0   0   0   0   0   0   0   0   0   0   0   0   0   0   0   0   0   0   0   0   0   0   0]\n",
            " [  0   0   0   0   0   0   0   0   0   0   0   0   0   0   0   0   0   0   0   0   0   0   0   0   0   0   0   0]\n",
            " [  0   0   0   0   0   0   0   0   0   0   0   0   0   0   0   0   0   0   0   0   0   0   0   0   0   0   0   0]\n",
            " [  0   0   0   0   0   0   0   0   0   0   0   0   0   0   0   0  20  60  66   0   0   0   0   0   2   0   0   0]\n",
            " [  0   0   0   0   0   0   0   0   0   0   0   0   0   0  18  58  96 104 106   2   0   0   0   0   0   0   0   0]\n",
            " [  0   0   0   0   0   0   0   0   0   0   0   0   6  39  62 125 179 112  62  14   0   0   0   0   2  81  37   0]\n",
            " [  2   0   0   0   0   0   0   0   0   0  10  29  68 127 127 102  29 121 175 123  39  14  14  29  41 123  79   0]\n",
            " [  0   0   0   2   0   0   0   0   2  33  68 121 135  79  12   4  56  35  79 173 179 146 123 110 117 150 100   0]\n",
            " [  0   0   0   0   0   0   4  43  81  79 104  54   6  16  77 121 121 112  68  22  79 135 150 150 167 119 110   2]\n",
            " [  0   0   6  20  52  73  77 100 112  54  22  41  94 125 112  87  73  73 108 127  96  62  52 102 137 110 135   4]\n",
            " [ 62 158  66  68  52  41  41  50  35  50  79  77  62  52  58  81  89  89 106 104 131 142 137 133 117 106 133  16]\n",
            " [ 14 131 152 154 198 196 181 152 112  94  91  91 100 121 140 163 181 194 204 211 211 206 211 215 234 204 255  68]\n",
            " [ 43  50  31  54  58  96 127 154 194 202 200 198 194 192 183 177 173 169 165 156 150 148 131 125 104  45 106 117]\n",
            " [  2  71 123 121 117  91  79  68  50  39  50  60  71  71  73  77  83  91 104 108 114 121 131 131 129 104 137  31]\n",
            " [  0   0   0  10  48  60  96 125 121 121 123 123 125 119 117 114 117 108  96  94  91  89  94  94  71  35   2   0]\n",
            " [  0   0   0   0   0   0   0   0   0   0   0   0   0   0   0   0   0   0   0   0   0   0   0   0   0   0   0   0]\n",
            " [  0   0   0   0   0   0   0   0   0   0   0   0   0   0   0   0   0   0   0   0   0   0   0   0   0   0   0   0]\n",
            " [  0   0   0   0   0   0   0   0   0   0   0   0   0   0   0   0   0   0   0   0   0   0   0   0   0   0   0   0]\n",
            " [  0   0   0   0   0   0   0   0   0   0   0   0   0   0   0   0   0   0   0   0   0   0   0   0   0   0   0   0]\n",
            " [  0   0   0   0   0   0   0   0   0   0   0   0   0   0   0   0   0   0   0   0   0   0   0   0   0   0   0   0]\n",
            " [  0   0   0   0   0   0   0   0   0   0   0   0   0   0   0   0   0   0   0   0   0   0   0   0   0   0   0   0]\n",
            " [  0   0   0   0   0   0   0   0   0   0   0   0   0   0   0   0   0   0   0   0   0   0   0   0   0   0   0   0]\n",
            " [  0   0   0   0   0   0   0   0   0   0   0   0   0   0   0   0   0   0   0   0   0   0   0   0   0   0   0   0]]\n"
          ]
        }
      ],
      "source": [
        "# Printing a random row from the test data and its label\n",
        "random_number_test = random.randint(0, X_test.shape[0])\n",
        "print(\"The label: \", y_test[random_number_test])\n",
        "print(X_test[random_number_test])"
      ]
    },
    {
      "cell_type": "code",
      "execution_count": 6,
      "metadata": {
        "colab": {
          "base_uri": "https://localhost:8080/",
          "height": 424
        },
        "id": "1-f2AQKjMjrQ",
        "outputId": "c4cf5aeb-c769-4797-dea4-ac8af9566cc5"
      },
      "outputs": [
        {
          "output_type": "stream",
          "name": "stdout",
          "text": [
            "The label:  9\n"
          ]
        },
        {
          "output_type": "display_data",
          "data": {
            "text/plain": [
              "<Figure size 640x480 with 1 Axes>"
            ],
            "image/png": "[encoded data removed]"
          },
          "metadata": {}
        }
      ],
      "source": [
        "# Visualizing a random image from the training data and its label\n",
        "print(\"The label: \", y_train[random_number_train])\n",
        "plt.imshow(X_train[random_number_train])\n",
        "plt.axis('off')\n",
        "plt.show()"
      ]
    },
    {
      "cell_type": "code",
      "execution_count": 7,
      "metadata": {
        "colab": {
          "base_uri": "https://localhost:8080/",
          "height": 424
        },
        "id": "mJTiA75VOGvl",
        "outputId": "03253b76-989f-4ae9-f933-a3608718ba86"
      },
      "outputs": [
        {
          "output_type": "stream",
          "name": "stdout",
          "text": [
            "The label:  7\n"
          ]
        },
        {
          "output_type": "display_data",
          "data": {
            "text/plain": [
              "<Figure size 640x480 with 1 Axes>"
            ],
            "image/png": "[encoded data removed]"
          },
          "metadata": {}
        }
      ],
      "source": [
        "# Visualizing a random image from the test data and its label\n",
        "print(\"The label: \", y_test[random_number_test])\n",
        "plt.imshow(X_test[random_number_test])\n",
        "plt.axis('off')\n",
        "plt.show()"
      ]
    },
    {
      "cell_type": "markdown",
      "metadata": {
        "id": "AVAEN3SFO3Jn"
      },
      "source": [
        "## Preprocessing the data"
      ]
    },
    {
      "cell_type": "code",
      "execution_count": 8,
      "metadata": {
        "id": "lXNQG0SuOz_o"
      },
      "outputs": [],
      "source": [
        "# Normalizing the features (of the training and test data)\n",
        "X_train = X_train/255\n",
        "X_test = X_test/255"
      ]
    },
    {
      "cell_type": "markdown",
      "metadata": {
        "id": "boP3TzPQRMmN"
      },
      "source": [
        "## Building the CNN model"
      ]
    },
    {
      "cell_type": "code",
      "execution_count": 9,
      "metadata": {
        "id": "1zMYlUdgQ-hO"
      },
      "outputs": [],
      "source": [
        "model = tf.keras.Sequential([\n",
        "    tf.keras.layers.Conv2D(32, (3,3), activation='relu', input_shape=(28,28,1)),\n",
        "    tf.keras.layers.MaxPool2D((2,2)),\n",
        "    tf.keras.layers.Conv2D(64, (3,3), activation='relu'),\n",
        "    tf.keras.layers.MaxPool2D((2,2)),\n",
        "\n",
        "    tf.keras.layers.Flatten(),\n",
        "    tf.keras.layers.Dense(64, activation='relu'),\n",
        "    tf.keras.layers.Dense(10, activation='softmax')\n",
        "])"
      ]
    },
    {
      "cell_type": "code",
      "execution_count": 10,
      "metadata": {
        "colab": {
          "base_uri": "https://localhost:8080/"
        },
        "id": "3RrcniRwXymy",
        "outputId": "84f66c37-d6fd-4684-ec1e-b6aae87bb9f2"
      },
      "outputs": [
        {
          "output_type": "stream",
          "name": "stdout",
          "text": [
            "Model: \"sequential\"\n",
            "_________________________________________________________________\n",
            " Layer (type)                Output Shape              Param #   \n",
            "=================================================================\n",
            " conv2d (Conv2D)             (None, 26, 26, 32)        320       \n",
            "                                                                 \n",
            " max_pooling2d (MaxPooling2  (None, 13, 13, 32)        0         \n",
            " D)                                                              \n",
            "                                                                 \n",
            " conv2d_1 (Conv2D)           (None, 11, 11, 64)        18496     \n",
            "                                                                 \n",
            " max_pooling2d_1 (MaxPoolin  (None, 5, 5, 64)          0         \n",
            " g2D)                                                            \n",
            "                                                                 \n",
            " flatten (Flatten)           (None, 1600)              0         \n",
            "                                                                 \n",
            " dense (Dense)               (None, 64)                102464    \n",
            "                                                                 \n",
            " dense_1 (Dense)             (None, 10)                650       \n",
            "                                                                 \n",
            "=================================================================\n",
            "Total params: 121930 (476.29 KB)\n",
            "Trainable params: 121930 (476.29 KB)\n",
            "Non-trainable params: 0 (0.00 Byte)\n",
            "_________________________________________________________________\n"
          ]
        }
      ],
      "source": [
        "# The model summary\n",
        "model.summary()"
      ]
    },
    {
      "cell_type": "markdown",
      "metadata": {
        "id": "nrV1CArrUSDZ"
      },
      "source": [
        "## Compiling the model"
      ]
    },
    {
      "cell_type": "code",
      "execution_count": 11,
      "metadata": {
        "id": "ufi16O9ATXbp"
      },
      "outputs": [],
      "source": [
        "model.compile(optimizer=\"adam\",\n",
        "              loss=\"SparseCategoricalCrossentropy\",\n",
        "              metrics=[\"accuracy\"])"
      ]
    },
    {
      "cell_type": "markdown",
      "metadata": {
        "id": "5AEuW1TpVTxv"
      },
      "source": [
        "## Training the model"
      ]
    },
    {
      "cell_type": "code",
      "execution_count": 12,
      "metadata": {
        "colab": {
          "base_uri": "https://localhost:8080/"
        },
        "id": "SdyM-5XDVTO3",
        "outputId": "7b6331c4-d41a-463f-c431-9dd0a2f26341"
      },
      "outputs": [
        {
          "output_type": "stream",
          "name": "stdout",
          "text": [
            "Epoch 1/5\n",
            "1875/1875 [==============================] - 11s 4ms/step - loss: 0.4709 - accuracy: 0.8298 - val_loss: 0.3693 - val_accuracy: 0.8676\n",
            "Epoch 2/5\n",
            "1875/1875 [==============================] - 7s 4ms/step - loss: 0.3164 - accuracy: 0.8849 - val_loss: 0.3260 - val_accuracy: 0.8791\n",
            "Epoch 3/5\n",
            "1875/1875 [==============================] - 7s 4ms/step - loss: 0.2710 - accuracy: 0.9004 - val_loss: 0.2740 - val_accuracy: 0.9003\n",
            "Epoch 4/5\n",
            "1875/1875 [==============================] - 8s 4ms/step - loss: 0.2410 - accuracy: 0.9115 - val_loss: 0.2590 - val_accuracy: 0.9045\n",
            "Epoch 5/5\n",
            "1875/1875 [==============================] - 6s 3ms/step - loss: 0.2171 - accuracy: 0.9196 - val_loss: 0.2765 - val_accuracy: 0.9009\n"
          ]
        }
      ],
      "source": [
        "history = model.fit(X_train, y_train, epochs=5, validation_data=(X_test,y_test))"
      ]
    },
    {
      "cell_type": "markdown",
      "metadata": {
        "id": "LpguJP5PaEMq"
      },
      "source": [
        "## Evaluating the model"
      ]
    },
    {
      "cell_type": "code",
      "execution_count": 13,
      "metadata": {
        "colab": {
          "base_uri": "https://localhost:8080/"
        },
        "id": "eERE3-3maEes",
        "outputId": "a2972186-3aa3-4f08-f327-bdb6e01399cb"
      },
      "outputs": [
        {
          "output_type": "stream",
          "name": "stdout",
          "text": [
            "313/313 [==============================] - 1s 3ms/step - loss: 0.2765 - accuracy: 0.9009\n",
            "The accuracy:  0.9009000062942505\n",
            "The loss:  0.2765420377254486\n"
          ]
        }
      ],
      "source": [
        "loss, accuracy = model.evaluate(X_test, y_test)\n",
        "print(\"The accuracy: \", accuracy)\n",
        "print(\"The loss: \", loss)"
      ]
    },
    {
      "cell_type": "markdown",
      "metadata": {
        "id": "-2759kuvYage"
      },
      "source": [
        "## Visualizing the accuracy and the loss (for both training and test data)"
      ]
    },
    {
      "cell_type": "code",
      "execution_count": 14,
      "metadata": {
        "colab": {
          "base_uri": "https://localhost:8080/",
          "height": 472
        },
        "id": "jqDSo-XxW8nP",
        "outputId": "3731c71f-eaba-426f-fcf3-80096b06f1d9"
      },
      "outputs": [
        {
          "output_type": "display_data",
          "data": {
            "text/plain": [
              "<Figure size 640x480 with 1 Axes>"
            ],
            "image/png": "[encoded data removed]"
          },
          "metadata": {}
        }
      ],
      "source": [
        "# Visualizing the accuracy of the training and test data\n",
        "plt.title(\"The accuracy of the training and test data\")\n",
        "plt.plot(history.history['accuracy'])\n",
        "plt.plot(history.history['val_accuracy'])\n",
        "plt.xlabel('Epochs')\n",
        "plt.ylabel('Accuracy')\n",
        "plt.legend([\"Training accuracy\", \"Test accuracy\"], loc='lower right')\n",
        "plt.show()"
      ]
    },
    {
      "cell_type": "code",
      "execution_count": 15,
      "metadata": {
        "colab": {
          "base_uri": "https://localhost:8080/",
          "height": 472
        },
        "id": "fQHdzN6rZVsw",
        "outputId": "e7be84ee-649b-4c71-d102-eb855fb2fd16"
      },
      "outputs": [
        {
          "output_type": "display_data",
          "data": {
            "text/plain": [
              "<Figure size 640x480 with 1 Axes>"
            ],
            "image/png": "[encoded data removed]"
          },
          "metadata": {}
        }
      ],
      "source": [
        "# Visualizing the loss of the training and test data\n",
        "plt.title(\"The loss of the training and test data\")\n",
        "plt.plot(history.history['loss'])\n",
        "plt.plot(history.history['val_loss'])\n",
        "plt.xlabel('Epochs')\n",
        "plt.ylabel('Loss')\n",
        "plt.legend([\"Training loss\", \"Test loss\"], loc='lower right')\n",
        "plt.show()"
      ]
    },
    {
      "cell_type": "markdown",
      "metadata": {
        "id": "tQ48rZvAdG-5"
      },
      "source": [
        "## Building a predictive system"
      ]
    },
    {
      "cell_type": "code",
      "source": [
        "classes = ['T-shirt/top', 'Trouser', 'Pullover', 'Dress', 'Coat', 'Sandal', 'Shirt', 'Sneaker', 'Bag', 'Ankle boot']"
      ],
      "metadata": {
        "id": "oeK6t4RMvS18"
      },
      "execution_count": 31,
      "outputs": []
    },
    {
      "cell_type": "markdown",
      "source": [
        "### Using the OpenCV library"
      ],
      "metadata": {
        "id": "ijP_YxN8C87z"
      }
    },
    {
      "cell_type": "code",
      "execution_count": 58,
      "metadata": {
        "colab": {
          "base_uri": "https://localhost:8080/"
        },
        "id": "5Bdb1WnRc1q1",
        "outputId": "7aca7319-f2cf-4b07-f821-f39570a78089"
      },
      "outputs": [
        {
          "output_type": "stream",
          "name": "stdout",
          "text": [
            "Enter the path of your image: /content/dd.jpg\n",
            "1/1 [==============================] - 0s 17ms/step\n",
            "[[4.4165485e-02 9.9030102e-04 7.2489884e-03 6.1380509e-03 4.2297249e-04 2.6875961e-05 1.4667350e-02 9.3264956e-05\n",
            "  9.2279989e-01 3.4467829e-03]]\n",
            "The predicted class is:  Bag\n"
          ]
        }
      ],
      "source": [
        "import cv2\n",
        "\n",
        "img_path = input(\"Enter the path of your image: \")\n",
        "img = cv2.imread(img_path)\n",
        "resized_img = cv2.resize(img, (28,28))\n",
        "gray_img = cv2.cvtColor(resized_img, cv2.COLOR_RGB2GRAY)\n",
        "final_img = gray_img.reshape((1,28,28,1))\n",
        "final_img = final_img/255\n",
        "prediction = model.predict(final_img)\n",
        "print(prediction)\n",
        "pred_class = classes[np.argmax(prediction)]\n",
        "print(\"The predicted class is: \", pred_class)"
      ]
    },
    {
      "cell_type": "markdown",
      "source": [
        "### Using the PIL library (Python Imaging Library)"
      ],
      "metadata": {
        "id": "ZFa9W8rRDE7Y"
      }
    },
    {
      "cell_type": "code",
      "source": [
        "from PIL import Image\n",
        "\n",
        "img_path = input(\"Enter the path of your image: \")\n",
        "img = Image.open(img_path)\n",
        "resized_img = img.resize((28,28))\n",
        "grayscale_img = resized_img.convert('L')\n",
        "img_array = np.array(grayscale_img)\n",
        "final_img = img_array.reshape((1,28,28,1))\n",
        "final_img = final_img/255\n",
        "prediction = model.predict(final_img)\n",
        "print(prediction)\n",
        "pred_class = classes[np.argmax(prediction)]\n",
        "print(\"The predicted class is: \", pred_class)"
      ],
      "metadata": {
        "colab": {
          "base_uri": "https://localhost:8080/"
        },
        "id": "tptiwKzQAqbI",
        "outputId": "b4d0d98d-aeca-465c-dcd1-6c8afd06ec0b"
      },
      "execution_count": 60,
      "outputs": [
        {
          "output_type": "stream",
          "name": "stdout",
          "text": [
            "Enter the path of your image: /content/dd.jpg\n",
            "1/1 [==============================] - 0s 18ms/step\n",
            "[[1.1234622e-01 1.9279071e-03 1.3584243e-02 5.3749452e-03 3.0360490e-04 2.4410059e-05 1.8760560e-02 1.8162459e-04\n",
            "  8.4093732e-01 6.5592141e-03]]\n",
            "The predicted class is:  Bag\n"
          ]
        }
      ]
    },
    {
      "cell_type": "markdown",
      "source": [
        "## Saving the trained model"
      ],
      "metadata": {
        "id": "nDMTrUbqzygF"
      }
    },
    {
      "cell_type": "code",
      "source": [
        "model.save(\"trained_model.h5\")"
      ],
      "metadata": {
        "colab": {
          "base_uri": "https://localhost:8080/"
        },
        "id": "SnV6CU71ylLr",
        "outputId": "0f74eb8b-6975-4371-b418-43d91bbdd629"
      },
      "execution_count": 42,
      "outputs": [
        {
          "output_type": "stream",
          "name": "stderr",
          "text": [
            "/usr/local/lib/python3.10/dist-packages/keras/src/engine/training.py:3103: UserWarning: You are saving your model as an HDF5 file via `model.save()`. This file format is considered legacy. We recommend using instead the native Keras format, e.g. `model.save('my_model.keras')`.\n",
            "  saving_api.save_model(\n"
          ]
        }
      ]
    }
  ],
  "metadata": {
    "accelerator": "GPU",
    "colab": {
      "gpuType": "T4",
      "provenance": []
    },
    "kernelspec": {
      "display_name": "Python 3",
      "name": "python3"
    },
    "language_info": {
      "name": "python"
    }
  },
  "nbformat": 4,
  "nbformat_minor": 0
}